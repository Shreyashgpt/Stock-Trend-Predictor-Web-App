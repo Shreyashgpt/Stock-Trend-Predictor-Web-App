{
 "cells": [
  {
   "cell_type": "markdown",
   "id": "80cdd980",
   "metadata": {},
   "source": [
    "# Stock Price Predictor"
   ]
  },
  {
   "cell_type": "markdown",
   "id": "2d4d857e",
   "metadata": {},
   "source": [
    "## Importing Libraries"
   ]
  },
  {
   "cell_type": "code",
   "execution_count": 1,
   "id": "0d8c6912",
   "metadata": {},
   "outputs": [],
   "source": [
    "import numpy as np\n",
    "import pandas as pd\n",
    "import matplotlib.pyplot as plt\n",
    "%matplotlib inline"
   ]
  },
  {
   "cell_type": "markdown",
   "id": "27735053",
   "metadata": {},
   "source": [
    "## Data Scraping"
   ]
  },
  {
   "cell_type": "code",
   "execution_count": 2,
   "id": "f5421fb0",
   "metadata": {},
   "outputs": [],
   "source": [
    "import pandas_datareader as data  #for data Scraping\n",
    "import datetime\n",
    "\n",
    "start = \"2010-01-01\"  #YYYY-MM-DD\n",
    "# end = \"2020-12-31\"\n",
    "end = datetime.datetime.now()"
   ]
  },
  {
   "cell_type": "code",
   "execution_count": 3,
   "id": "250a8736",
   "metadata": {},
   "outputs": [
    {
     "data": {
      "text/html": [
       "<div>\n",
       "<style scoped>\n",
       "    .dataframe tbody tr th:only-of-type {\n",
       "        vertical-align: middle;\n",
       "    }\n",
       "\n",
       "    .dataframe tbody tr th {\n",
       "        vertical-align: top;\n",
       "    }\n",
       "\n",
       "    .dataframe thead th {\n",
       "        text-align: right;\n",
       "    }\n",
       "</style>\n",
       "<table border=\"1\" class=\"dataframe\">\n",
       "  <thead>\n",
       "    <tr style=\"text-align: right;\">\n",
       "      <th></th>\n",
       "      <th>High</th>\n",
       "      <th>Low</th>\n",
       "      <th>Open</th>\n",
       "      <th>Close</th>\n",
       "      <th>Volume</th>\n",
       "      <th>Adj Close</th>\n",
       "    </tr>\n",
       "    <tr>\n",
       "      <th>Date</th>\n",
       "      <th></th>\n",
       "      <th></th>\n",
       "      <th></th>\n",
       "      <th></th>\n",
       "      <th></th>\n",
       "      <th></th>\n",
       "    </tr>\n",
       "  </thead>\n",
       "  <tbody>\n",
       "    <tr>\n",
       "      <th>2009-12-31</th>\n",
       "      <td>17.080000</td>\n",
       "      <td>16.830000</td>\n",
       "      <td>16.940001</td>\n",
       "      <td>16.860001</td>\n",
       "      <td>586100.0</td>\n",
       "      <td>15.805058</td>\n",
       "    </tr>\n",
       "    <tr>\n",
       "      <th>2010-01-04</th>\n",
       "      <td>18.090000</td>\n",
       "      <td>17.490000</td>\n",
       "      <td>17.570000</td>\n",
       "      <td>18.030001</td>\n",
       "      <td>2141700.0</td>\n",
       "      <td>16.901852</td>\n",
       "    </tr>\n",
       "    <tr>\n",
       "      <th>2010-01-05</th>\n",
       "      <td>17.900000</td>\n",
       "      <td>17.620001</td>\n",
       "      <td>17.780001</td>\n",
       "      <td>17.850000</td>\n",
       "      <td>2022500.0</td>\n",
       "      <td>16.733114</td>\n",
       "    </tr>\n",
       "    <tr>\n",
       "      <th>2010-01-06</th>\n",
       "      <td>18.010000</td>\n",
       "      <td>17.770000</td>\n",
       "      <td>17.900000</td>\n",
       "      <td>17.990000</td>\n",
       "      <td>2057800.0</td>\n",
       "      <td>16.864353</td>\n",
       "    </tr>\n",
       "    <tr>\n",
       "      <th>2010-01-07</th>\n",
       "      <td>17.629999</td>\n",
       "      <td>17.340000</td>\n",
       "      <td>17.389999</td>\n",
       "      <td>17.570000</td>\n",
       "      <td>2706800.0</td>\n",
       "      <td>16.470633</td>\n",
       "    </tr>\n",
       "  </tbody>\n",
       "</table>\n",
       "</div>"
      ],
      "text/plain": [
       "                 High        Low       Open      Close     Volume  Adj Close\n",
       "Date                                                                        \n",
       "2009-12-31  17.080000  16.830000  16.940001  16.860001   586100.0  15.805058\n",
       "2010-01-04  18.090000  17.490000  17.570000  18.030001  2141700.0  16.901852\n",
       "2010-01-05  17.900000  17.620001  17.780001  17.850000  2022500.0  16.733114\n",
       "2010-01-06  18.010000  17.770000  17.900000  17.990000  2057800.0  16.864353\n",
       "2010-01-07  17.629999  17.340000  17.389999  17.570000  2706800.0  16.470633"
      ]
     },
     "execution_count": 3,
     "metadata": {},
     "output_type": "execute_result"
    }
   ],
   "source": [
    "df = data.DataReader('TTM', 'yahoo', start, end)\n",
    "df.head()"
   ]
  },
  {
   "cell_type": "markdown",
   "id": "4ee99362",
   "metadata": {},
   "source": [
    "## Analyse Data"
   ]
  },
  {
   "cell_type": "code",
   "execution_count": 4,
   "id": "e8079b6c",
   "metadata": {},
   "outputs": [
    {
     "data": {
      "text/html": [
       "<div>\n",
       "<style scoped>\n",
       "    .dataframe tbody tr th:only-of-type {\n",
       "        vertical-align: middle;\n",
       "    }\n",
       "\n",
       "    .dataframe tbody tr th {\n",
       "        vertical-align: top;\n",
       "    }\n",
       "\n",
       "    .dataframe thead th {\n",
       "        text-align: right;\n",
       "    }\n",
       "</style>\n",
       "<table border=\"1\" class=\"dataframe\">\n",
       "  <thead>\n",
       "    <tr style=\"text-align: right;\">\n",
       "      <th></th>\n",
       "      <th>High</th>\n",
       "      <th>Low</th>\n",
       "      <th>Open</th>\n",
       "      <th>Close</th>\n",
       "      <th>Volume</th>\n",
       "      <th>Adj Close</th>\n",
       "    </tr>\n",
       "    <tr>\n",
       "      <th>Date</th>\n",
       "      <th></th>\n",
       "      <th></th>\n",
       "      <th></th>\n",
       "      <th></th>\n",
       "      <th></th>\n",
       "      <th></th>\n",
       "    </tr>\n",
       "  </thead>\n",
       "  <tbody>\n",
       "    <tr>\n",
       "      <th>2022-08-24</th>\n",
       "      <td>29.290001</td>\n",
       "      <td>29.080000</td>\n",
       "      <td>29.219999</td>\n",
       "      <td>29.240000</td>\n",
       "      <td>219100.0</td>\n",
       "      <td>29.240000</td>\n",
       "    </tr>\n",
       "    <tr>\n",
       "      <th>2022-08-25</th>\n",
       "      <td>29.250000</td>\n",
       "      <td>28.820000</td>\n",
       "      <td>28.840000</td>\n",
       "      <td>29.200001</td>\n",
       "      <td>534800.0</td>\n",
       "      <td>29.200001</td>\n",
       "    </tr>\n",
       "    <tr>\n",
       "      <th>2022-08-26</th>\n",
       "      <td>29.570000</td>\n",
       "      <td>28.490000</td>\n",
       "      <td>29.370001</td>\n",
       "      <td>28.580000</td>\n",
       "      <td>636700.0</td>\n",
       "      <td>28.580000</td>\n",
       "    </tr>\n",
       "    <tr>\n",
       "      <th>2022-08-29</th>\n",
       "      <td>28.680000</td>\n",
       "      <td>28.139999</td>\n",
       "      <td>28.139999</td>\n",
       "      <td>28.600000</td>\n",
       "      <td>350600.0</td>\n",
       "      <td>28.600000</td>\n",
       "    </tr>\n",
       "    <tr>\n",
       "      <th>2022-08-30</th>\n",
       "      <td>29.670000</td>\n",
       "      <td>28.990000</td>\n",
       "      <td>29.650000</td>\n",
       "      <td>28.990000</td>\n",
       "      <td>613700.0</td>\n",
       "      <td>28.990000</td>\n",
       "    </tr>\n",
       "  </tbody>\n",
       "</table>\n",
       "</div>"
      ],
      "text/plain": [
       "                 High        Low       Open      Close    Volume  Adj Close\n",
       "Date                                                                       \n",
       "2022-08-24  29.290001  29.080000  29.219999  29.240000  219100.0  29.240000\n",
       "2022-08-25  29.250000  28.820000  28.840000  29.200001  534800.0  29.200001\n",
       "2022-08-26  29.570000  28.490000  29.370001  28.580000  636700.0  28.580000\n",
       "2022-08-29  28.680000  28.139999  28.139999  28.600000  350600.0  28.600000\n",
       "2022-08-30  29.670000  28.990000  29.650000  28.990000  613700.0  28.990000"
      ]
     },
     "execution_count": 4,
     "metadata": {},
     "output_type": "execute_result"
    }
   ],
   "source": [
    " df.tail()"
   ]
  },
  {
   "cell_type": "code",
   "execution_count": 5,
   "id": "6326f7a3",
   "metadata": {},
   "outputs": [
    {
     "data": {
      "text/html": [
       "<div>\n",
       "<style scoped>\n",
       "    .dataframe tbody tr th:only-of-type {\n",
       "        vertical-align: middle;\n",
       "    }\n",
       "\n",
       "    .dataframe tbody tr th {\n",
       "        vertical-align: top;\n",
       "    }\n",
       "\n",
       "    .dataframe thead th {\n",
       "        text-align: right;\n",
       "    }\n",
       "</style>\n",
       "<table border=\"1\" class=\"dataframe\">\n",
       "  <thead>\n",
       "    <tr style=\"text-align: right;\">\n",
       "      <th></th>\n",
       "      <th>Date</th>\n",
       "      <th>High</th>\n",
       "      <th>Low</th>\n",
       "      <th>Open</th>\n",
       "      <th>Close</th>\n",
       "      <th>Volume</th>\n",
       "      <th>Adj Close</th>\n",
       "    </tr>\n",
       "  </thead>\n",
       "  <tbody>\n",
       "    <tr>\n",
       "      <th>0</th>\n",
       "      <td>2009-12-31</td>\n",
       "      <td>17.080000</td>\n",
       "      <td>16.830000</td>\n",
       "      <td>16.940001</td>\n",
       "      <td>16.860001</td>\n",
       "      <td>586100.0</td>\n",
       "      <td>15.805058</td>\n",
       "    </tr>\n",
       "    <tr>\n",
       "      <th>1</th>\n",
       "      <td>2010-01-04</td>\n",
       "      <td>18.090000</td>\n",
       "      <td>17.490000</td>\n",
       "      <td>17.570000</td>\n",
       "      <td>18.030001</td>\n",
       "      <td>2141700.0</td>\n",
       "      <td>16.901852</td>\n",
       "    </tr>\n",
       "    <tr>\n",
       "      <th>2</th>\n",
       "      <td>2010-01-05</td>\n",
       "      <td>17.900000</td>\n",
       "      <td>17.620001</td>\n",
       "      <td>17.780001</td>\n",
       "      <td>17.850000</td>\n",
       "      <td>2022500.0</td>\n",
       "      <td>16.733114</td>\n",
       "    </tr>\n",
       "    <tr>\n",
       "      <th>3</th>\n",
       "      <td>2010-01-06</td>\n",
       "      <td>18.010000</td>\n",
       "      <td>17.770000</td>\n",
       "      <td>17.900000</td>\n",
       "      <td>17.990000</td>\n",
       "      <td>2057800.0</td>\n",
       "      <td>16.864353</td>\n",
       "    </tr>\n",
       "    <tr>\n",
       "      <th>4</th>\n",
       "      <td>2010-01-07</td>\n",
       "      <td>17.629999</td>\n",
       "      <td>17.340000</td>\n",
       "      <td>17.389999</td>\n",
       "      <td>17.570000</td>\n",
       "      <td>2706800.0</td>\n",
       "      <td>16.470633</td>\n",
       "    </tr>\n",
       "  </tbody>\n",
       "</table>\n",
       "</div>"
      ],
      "text/plain": [
       "        Date       High        Low       Open      Close     Volume  Adj Close\n",
       "0 2009-12-31  17.080000  16.830000  16.940001  16.860001   586100.0  15.805058\n",
       "1 2010-01-04  18.090000  17.490000  17.570000  18.030001  2141700.0  16.901852\n",
       "2 2010-01-05  17.900000  17.620001  17.780001  17.850000  2022500.0  16.733114\n",
       "3 2010-01-06  18.010000  17.770000  17.900000  17.990000  2057800.0  16.864353\n",
       "4 2010-01-07  17.629999  17.340000  17.389999  17.570000  2706800.0  16.470633"
      ]
     },
     "execution_count": 5,
     "metadata": {},
     "output_type": "execute_result"
    }
   ],
   "source": [
    "df = df.reset_index()\n",
    "df.head()"
   ]
  },
  {
   "cell_type": "code",
   "execution_count": 6,
   "id": "8456a9fc",
   "metadata": {},
   "outputs": [
    {
     "data": {
      "text/html": [
       "<div>\n",
       "<style scoped>\n",
       "    .dataframe tbody tr th:only-of-type {\n",
       "        vertical-align: middle;\n",
       "    }\n",
       "\n",
       "    .dataframe tbody tr th {\n",
       "        vertical-align: top;\n",
       "    }\n",
       "\n",
       "    .dataframe thead th {\n",
       "        text-align: right;\n",
       "    }\n",
       "</style>\n",
       "<table border=\"1\" class=\"dataframe\">\n",
       "  <thead>\n",
       "    <tr style=\"text-align: right;\">\n",
       "      <th></th>\n",
       "      <th>Open</th>\n",
       "      <th>Close</th>\n",
       "    </tr>\n",
       "  </thead>\n",
       "  <tbody>\n",
       "    <tr>\n",
       "      <th>0</th>\n",
       "      <td>16.940001</td>\n",
       "      <td>16.860001</td>\n",
       "    </tr>\n",
       "    <tr>\n",
       "      <th>1</th>\n",
       "      <td>17.570000</td>\n",
       "      <td>18.030001</td>\n",
       "    </tr>\n",
       "    <tr>\n",
       "      <th>2</th>\n",
       "      <td>17.780001</td>\n",
       "      <td>17.850000</td>\n",
       "    </tr>\n",
       "    <tr>\n",
       "      <th>3</th>\n",
       "      <td>17.900000</td>\n",
       "      <td>17.990000</td>\n",
       "    </tr>\n",
       "    <tr>\n",
       "      <th>4</th>\n",
       "      <td>17.389999</td>\n",
       "      <td>17.570000</td>\n",
       "    </tr>\n",
       "  </tbody>\n",
       "</table>\n",
       "</div>"
      ],
      "text/plain": [
       "        Open      Close\n",
       "0  16.940001  16.860001\n",
       "1  17.570000  18.030001\n",
       "2  17.780001  17.850000\n",
       "3  17.900000  17.990000\n",
       "4  17.389999  17.570000"
      ]
     },
     "execution_count": 6,
     "metadata": {},
     "output_type": "execute_result"
    }
   ],
   "source": [
    "df = df.drop(['Date', 'Adj Close', 'High', 'Low', 'Volume'], axis = 1)\n",
    "df.head()"
   ]
  },
  {
   "cell_type": "markdown",
   "id": "9c1fda4f",
   "metadata": {},
   "source": [
    "## Plotting Data"
   ]
  },
  {
   "cell_type": "code",
   "execution_count": 7,
   "id": "b12184c1",
   "metadata": {},
   "outputs": [
    {
     "data": {
      "text/plain": [
       "[<matplotlib.lines.Line2D at 0x1e76d6769b0>]"
      ]
     },
     "execution_count": 7,
     "metadata": {},
     "output_type": "execute_result"
    },
    {
     "data": {
      "image/png": "[encoded data removed]",
      "text/plain": [
       "<Figure size 864x432 with 1 Axes>"
      ]
     },
     "metadata": {
      "needs_background": "light"
     },
     "output_type": "display_data"
    }
   ],
   "source": [
    "plt.figure(figsize = (12, 6))\n",
    "plt.plot(df.Close)"
   ]
  },
  {
   "cell_type": "markdown",
   "id": "eb7045c1",
   "metadata": {},
   "source": [
    "### Moving Averages"
   ]
  },
  {
   "cell_type": "code",
   "execution_count": 8,
   "id": "d6d02b37",
   "metadata": {},
   "outputs": [
    {
     "data": {
      "text/plain": [
       "0           NaN\n",
       "1           NaN\n",
       "2           NaN\n",
       "3           NaN\n",
       "4           NaN\n",
       "         ...   \n",
       "3183    27.8621\n",
       "3184    27.8619\n",
       "3185    27.8508\n",
       "3186    27.8417\n",
       "3187    27.8351\n",
       "Name: Close, Length: 3188, dtype: float64"
      ]
     },
     "execution_count": 8,
     "metadata": {},
     "output_type": "execute_result"
    }
   ],
   "source": [
    "ma100 = df.Close.rolling(100).mean()  #Moving Average 100\n",
    "ma100"
   ]
  },
  {
   "cell_type": "code",
   "execution_count": 9,
   "id": "7e9a475c",
   "metadata": {},
   "outputs": [
    {
     "data": {
      "text/plain": [
       "[<matplotlib.lines.Line2D at 0x1e76ec27880>]"
      ]
     },
     "execution_count": 9,
     "metadata": {},
     "output_type": "execute_result"
    },
    {
     "data": {
      "image/png": "[encoded data removed]",
      "text/plain": [
       "<Figure size 864x432 with 1 Axes>"
      ]
     },
     "metadata": {
      "needs_background": "light"
     },
     "output_type": "display_data"
    }
   ],
   "source": [
    "plt.figure(figsize = (12, 6))  #Plotting with Moving Average\n",
    "plt.plot(df.Close)\n",
    "plt.plot(ma100, 'r')"
   ]
  },
  {
   "cell_type": "code",
   "execution_count": 10,
   "id": "1d7b19bc",
   "metadata": {},
   "outputs": [
    {
     "data": {
      "text/plain": [
       "[<matplotlib.lines.Line2D at 0x1e76eac0190>]"
      ]
     },
     "execution_count": 10,
     "metadata": {},
     "output_type": "execute_result"
    },
    {
     "data": {
      "image/png": "[encoded data removed]",
      "text/plain": [
       "<Figure size 864x432 with 1 Axes>"
      ]
     },
     "metadata": {
      "needs_background": "light"
     },
     "output_type": "display_data"
    }
   ],
   "source": [
    "ma200 = df.Close.rolling(200).mean()  #Moving Average 200 and plotting\n",
    "plt.figure(figsize = (12, 6))\n",
    "plt.plot(df.Close)\n",
    "plt.plot(ma100, 'r', label = 'Moving Average 100')\n",
    "plt.plot(ma200, 'g', label = 'Moving Average 200')"
   ]
  },
  {
   "cell_type": "code",
   "execution_count": 11,
   "id": "f9ffce79",
   "metadata": {},
   "outputs": [
    {
     "data": {
      "text/plain": [
       "(3188, 2)"
      ]
     },
     "execution_count": 11,
     "metadata": {},
     "output_type": "execute_result"
    }
   ],
   "source": [
    "df.shape"
   ]
  },
  {
   "cell_type": "markdown",
   "id": "d92bb91e",
   "metadata": {},
   "source": [
    "## Splitting Data into Training and Testing"
   ]
  },
  {
   "cell_type": "code",
   "execution_count": 12,
   "id": "17361a58",
   "metadata": {},
   "outputs": [
    {
     "name": "stdout",
     "output_type": "stream",
     "text": [
      "(2231, 1)\n",
      "(957, 1)\n"
     ]
    }
   ],
   "source": [
    "data_training = pd.DataFrame(df['Close'][0: int(len(df) * 0.70)])\n",
    "data_testing = pd.DataFrame(df['Close'][int(len(df) * 0.70): int(len(df))])\n",
    "              \n",
    "             \n",
    "print(data_training.shape)\n",
    "print(data_testing.shape)"
   ]
  },
  {
   "cell_type": "markdown",
   "id": "36ae9afd",
   "metadata": {},
   "source": [
    "## Data Scaling"
   ]
  },
  {
   "cell_type": "code",
   "execution_count": 13,
   "id": "188d602e",
   "metadata": {},
   "outputs": [],
   "source": [
    "from sklearn.preprocessing import MinMaxScaler\n",
    "\n",
    "scalar = MinMaxScaler(feature_range = (0, 1))"
   ]
  },
  {
   "cell_type": "code",
   "execution_count": 14,
   "id": "607a3d9b",
   "metadata": {},
   "outputs": [
    {
     "data": {
      "text/plain": [
       "array([[0.13647705],\n",
       "       [0.16566867],\n",
       "       [0.16117764],\n",
       "       ...,\n",
       "       [0.04041916],\n",
       "       [0.04466068],\n",
       "       [0.04141716]])"
      ]
     },
     "execution_count": 14,
     "metadata": {},
     "output_type": "execute_result"
    }
   ],
   "source": [
    "data_training_array = scalar.fit_transform(data_training)\n",
    "data_training_array"
   ]
  },
  {
   "cell_type": "markdown",
   "id": "e7f0708c",
   "metadata": {},
   "source": [
    "## Input Output Splitting"
   ]
  },
  {
   "cell_type": "code",
   "execution_count": 15,
   "id": "7b36ba1c",
   "metadata": {},
   "outputs": [
    {
     "data": {
      "text/plain": [
       "(2131, 100, 1)"
      ]
     },
     "execution_count": 15,
     "metadata": {},
     "output_type": "execute_result"
    }
   ],
   "source": [
    "# Considering data for last 100 day only to calculate data for today -> TIME SERIES ANALOGY\n",
    "\n",
    "x_train = []\n",
    "y_train = []\n",
    "\n",
    "for i in range(100, data_training_array.shape[0]):\n",
    "    x_train.append(data_training_array[i - 100: i])\n",
    "    y_train.append(data_training_array[i, 0])\n",
    "    \n",
    "x_train, y_train = np.array(x_train), np.array(y_train) #Converting into np array\n",
    "x_train.shape"
   ]
  },
  {
   "cell_type": "markdown",
   "id": "1b7d7dad",
   "metadata": {},
   "source": [
    "## ML Model"
   ]
  },
  {
   "cell_type": "code",
   "execution_count": 16,
   "id": "06f98e8b",
   "metadata": {},
   "outputs": [],
   "source": [
    "from keras.layers import Dense, Dropout, LSTM\n",
    "from keras.models import Sequential"
   ]
  },
  {
   "cell_type": "markdown",
   "id": "13ae3a00",
   "metadata": {},
   "source": [
    "### Adding Layers"
   ]
  },
  {
   "cell_type": "code",
   "execution_count": 17,
   "id": "92078a67",
   "metadata": {},
   "outputs": [],
   "source": [
    "model = Sequential()\n",
    "\n",
    "#Adding first layer\n",
    "model.add(LSTM(units = 50, activation = 'relu', return_sequences = True, input_shape = (x_train.shape[1], 1)))\n",
    "model.add(Dropout(0.2))\n",
    "\n",
    "#Adding second layer\n",
    "model.add(LSTM(units = 60, activation = 'relu', return_sequences = True))\n",
    "model.add(Dropout(0.3))\n",
    "\n",
    "#Adding third layer\n",
    "model.add(LSTM(units = 80, activation = 'relu', return_sequences = True))\n",
    "model.add(Dropout(0.4))\n",
    "\n",
    "#Adding fourth layer\n",
    "model.add(LSTM(units = 120, activation = 'relu'))\n",
    "model.add(Dropout(0.5))\n",
    "\n",
    "#Adding Dense Layer -> Connect these 4 layers\n",
    "model.add(Dense(units = 1))"
   ]
  },
  {
   "cell_type": "code",
   "execution_count": 18,
   "id": "80f98a14",
   "metadata": {},
   "outputs": [
    {
     "name": "stdout",
     "output_type": "stream",
     "text": [
      "Model: \"sequential\"\n",
      "_________________________________________________________________\n",
      " Layer (type)                Output Shape              Param #   \n",
      "=================================================================\n",
      " lstm (LSTM)                 (None, 100, 50)           10400     \n",
      "                                                                 \n",
      " dropout (Dropout)           (None, 100, 50)           0         \n",
      "                                                                 \n",
      " lstm_1 (LSTM)               (None, 100, 60)           26640     \n",
      "                                                                 \n",
      " dropout_1 (Dropout)         (None, 100, 60)           0         \n",
      "                                                                 \n",
      " lstm_2 (LSTM)               (None, 100, 80)           45120     \n",
      "                                                                 \n",
      " dropout_2 (Dropout)         (None, 100, 80)           0         \n",
      "                                                                 \n",
      " lstm_3 (LSTM)               (None, 120)               96480     \n",
      "                                                                 \n",
      " dropout_3 (Dropout)         (None, 120)               0         \n",
      "                                                                 \n",
      " dense (Dense)               (None, 1)                 121       \n",
      "                                                                 \n",
      "=================================================================\n",
      "Total params: 178,761\n",
      "Trainable params: 178,761\n",
      "Non-trainable params: 0\n",
      "_________________________________________________________________\n"
     ]
    }
   ],
   "source": [
    "model.summary()"
   ]
  },
  {
   "cell_type": "markdown",
   "id": "8bf69eb9",
   "metadata": {},
   "source": [
    "### Compiling Model"
   ]
  },
  {
   "cell_type": "code",
   "execution_count": 19,
   "id": "316fe254",
   "metadata": {},
   "outputs": [],
   "source": [
    "model.compile(optimizer = 'adam', loss = 'mean_squared_error')  #For Time Series Analysis -> Loss = mean_squared_error"
   ]
  },
  {
   "cell_type": "markdown",
   "id": "79a1e1bd",
   "metadata": {},
   "source": [
    "### Fitting data"
   ]
  },
  {
   "cell_type": "code",
   "execution_count": 20,
   "id": "6dfcce24",
   "metadata": {},
   "outputs": [
    {
     "name": "stdout",
     "output_type": "stream",
     "text": [
      "(2131, 100, 1)\n",
      "(2131,)\n"
     ]
    }
   ],
   "source": [
    "print(x_train.shape)\n",
    "print(y_train.shape)"
   ]
  },
  {
   "cell_type": "code",
   "execution_count": 21,
   "id": "6f0102e7",
   "metadata": {},
   "outputs": [
    {
     "name": "stdout",
     "output_type": "stream",
     "text": [
      "Epoch 1/50\n",
      "67/67 [==============================] - 23s 248ms/step - loss: 0.0391\n",
      "Epoch 2/50\n",
      "67/67 [==============================] - 17s 258ms/step - loss: 0.0101\n",
      "Epoch 3/50\n",
      "67/67 [==============================] - 16s 233ms/step - loss: 0.0089\n",
      "Epoch 4/50\n",
      "67/67 [==============================] - 15s 217ms/step - loss: 0.0084\n",
      "Epoch 5/50\n",
      "67/67 [==============================] - 16s 238ms/step - loss: 0.0070\n",
      "Epoch 6/50\n",
      "67/67 [==============================] - 15s 224ms/step - loss: 0.0064\n",
      "Epoch 7/50\n",
      "67/67 [==============================] - 15s 222ms/step - loss: 0.0064\n",
      "Epoch 8/50\n",
      "67/67 [==============================] - 16s 237ms/step - loss: 0.0060\n",
      "Epoch 9/50\n",
      "67/67 [==============================] - 15s 217ms/step - loss: 0.0063\n",
      "Epoch 10/50\n",
      "67/67 [==============================] - 14s 215ms/step - loss: 0.0052\n",
      "Epoch 11/50\n",
      "67/67 [==============================] - 15s 218ms/step - loss: 0.0054\n",
      "Epoch 12/50\n",
      "67/67 [==============================] - 17s 257ms/step - loss: 0.0047\n",
      "Epoch 13/50\n",
      "67/67 [==============================] - 16s 233ms/step - loss: 0.0047\n",
      "Epoch 14/50\n",
      "67/67 [==============================] - 15s 225ms/step - loss: 0.0045\n",
      "Epoch 15/50\n",
      "67/67 [==============================] - 16s 242ms/step - loss: 0.0050\n",
      "Epoch 16/50\n",
      "67/67 [==============================] - 17s 247ms/step - loss: 0.0046\n",
      "Epoch 17/50\n",
      "67/67 [==============================] - 23s 338ms/step - loss: 0.0041\n",
      "Epoch 18/50\n",
      "67/67 [==============================] - 25s 368ms/step - loss: 0.0042\n",
      "Epoch 19/50\n",
      "67/67 [==============================] - 19s 289ms/step - loss: 0.0040\n",
      "Epoch 20/50\n",
      "67/67 [==============================] - 21s 320ms/step - loss: 0.0038\n",
      "Epoch 21/50\n",
      "67/67 [==============================] - 21s 316ms/step - loss: 0.0035\n",
      "Epoch 22/50\n",
      "67/67 [==============================] - 24s 355ms/step - loss: 0.0032\n",
      "Epoch 23/50\n",
      "67/67 [==============================] - 25s 379ms/step - loss: 0.0036\n",
      "Epoch 24/50\n",
      "67/67 [==============================] - 20s 306ms/step - loss: 0.0030\n",
      "Epoch 25/50\n",
      "67/67 [==============================] - 22s 330ms/step - loss: 0.0033\n",
      "Epoch 26/50\n",
      "67/67 [==============================] - 20s 297ms/step - loss: 0.0031\n",
      "Epoch 27/50\n",
      "67/67 [==============================] - 21s 312ms/step - loss: 0.0031\n",
      "Epoch 28/50\n",
      "67/67 [==============================] - 21s 316ms/step - loss: 0.0032\n",
      "Epoch 29/50\n",
      "67/67 [==============================] - 27s 400ms/step - loss: 0.0032\n",
      "Epoch 30/50\n",
      "67/67 [==============================] - 20s 297ms/step - loss: 0.0029\n",
      "Epoch 31/50\n",
      "67/67 [==============================] - 20s 296ms/step - loss: 0.0029\n",
      "Epoch 32/50\n",
      "67/67 [==============================] - 23s 342ms/step - loss: 0.0027\n",
      "Epoch 33/50\n",
      "67/67 [==============================] - 24s 364ms/step - loss: 0.0026\n",
      "Epoch 34/50\n",
      "67/67 [==============================] - 25s 370ms/step - loss: 0.0026\n",
      "Epoch 35/50\n",
      "67/67 [==============================] - 22s 324ms/step - loss: 0.0027\n",
      "Epoch 36/50\n",
      "67/67 [==============================] - 22s 323ms/step - loss: 0.0025\n",
      "Epoch 37/50\n",
      "67/67 [==============================] - 25s 347ms/step - loss: 0.0026\n",
      "Epoch 38/50\n",
      "67/67 [==============================] - 23s 344ms/step - loss: 0.0026\n",
      "Epoch 39/50\n",
      "67/67 [==============================] - 24s 361ms/step - loss: 0.0023\n",
      "Epoch 40/50\n",
      "67/67 [==============================] - 21s 312ms/step - loss: 0.0024\n",
      "Epoch 41/50\n",
      "67/67 [==============================] - 21s 317ms/step - loss: 0.0025\n",
      "Epoch 42/50\n",
      "67/67 [==============================] - 22s 332ms/step - loss: 0.0022\n",
      "Epoch 43/50\n",
      "67/67 [==============================] - 25s 371ms/step - loss: 0.0022\n",
      "Epoch 44/50\n",
      "67/67 [==============================] - 22s 330ms/step - loss: 0.0023\n",
      "Epoch 45/50\n",
      "67/67 [==============================] - 24s 355ms/step - loss: 0.0021\n",
      "Epoch 46/50\n",
      "67/67 [==============================] - 23s 345ms/step - loss: 0.0022\n",
      "Epoch 47/50\n",
      "67/67 [==============================] - 24s 365ms/step - loss: 0.0023\n",
      "Epoch 48/50\n",
      "67/67 [==============================] - 20s 282ms/step - loss: 0.0023\n",
      "Epoch 49/50\n",
      "67/67 [==============================] - 23s 346ms/step - loss: 0.0020\n",
      "Epoch 50/50\n",
      "67/67 [==============================] - 20s 303ms/step - loss: 0.0022\n"
     ]
    },
    {
     "data": {
      "text/plain": [
       "<keras.callbacks.History at 0x1e77f87d540>"
      ]
     },
     "execution_count": 21,
     "metadata": {},
     "output_type": "execute_result"
    }
   ],
   "source": [
    "model.fit(x_train, y_train, epochs = 50)"
   ]
  },
  {
   "cell_type": "markdown",
   "id": "7d08b379",
   "metadata": {},
   "source": [
    "### Saving the Model"
   ]
  },
  {
   "cell_type": "code",
   "execution_count": 22,
   "id": "6e75c66a",
   "metadata": {},
   "outputs": [],
   "source": [
    "model.save('keras_model.h5')"
   ]
  },
  {
   "cell_type": "markdown",
   "id": "92e618bd",
   "metadata": {},
   "source": [
    "## Testing Model"
   ]
  },
  {
   "cell_type": "code",
   "execution_count": 23,
   "id": "b3800b72",
   "metadata": {},
   "outputs": [
    {
     "data": {
      "text/html": [
       "<div>\n",
       "<style scoped>\n",
       "    .dataframe tbody tr th:only-of-type {\n",
       "        vertical-align: middle;\n",
       "    }\n",
       "\n",
       "    .dataframe tbody tr th {\n",
       "        vertical-align: top;\n",
       "    }\n",
       "\n",
       "    .dataframe thead th {\n",
       "        text-align: right;\n",
       "    }\n",
       "</style>\n",
       "<table border=\"1\" class=\"dataframe\">\n",
       "  <thead>\n",
       "    <tr style=\"text-align: right;\">\n",
       "      <th></th>\n",
       "      <th>Close</th>\n",
       "    </tr>\n",
       "  </thead>\n",
       "  <tbody>\n",
       "    <tr>\n",
       "      <th>2231</th>\n",
       "      <td>13.11</td>\n",
       "    </tr>\n",
       "    <tr>\n",
       "      <th>2232</th>\n",
       "      <td>12.12</td>\n",
       "    </tr>\n",
       "    <tr>\n",
       "      <th>2233</th>\n",
       "      <td>12.18</td>\n",
       "    </tr>\n",
       "    <tr>\n",
       "      <th>2234</th>\n",
       "      <td>12.26</td>\n",
       "    </tr>\n",
       "    <tr>\n",
       "      <th>2235</th>\n",
       "      <td>12.57</td>\n",
       "    </tr>\n",
       "  </tbody>\n",
       "</table>\n",
       "</div>"
      ],
      "text/plain": [
       "      Close\n",
       "2231  13.11\n",
       "2232  12.12\n",
       "2233  12.18\n",
       "2234  12.26\n",
       "2235  12.57"
      ]
     },
     "execution_count": 23,
     "metadata": {},
     "output_type": "execute_result"
    }
   ],
   "source": [
    "data_testing.head()"
   ]
  },
  {
   "cell_type": "code",
   "execution_count": 24,
   "id": "875d8393",
   "metadata": {},
   "outputs": [
    {
     "data": {
      "text/html": [
       "<div>\n",
       "<style scoped>\n",
       "    .dataframe tbody tr th:only-of-type {\n",
       "        vertical-align: middle;\n",
       "    }\n",
       "\n",
       "    .dataframe tbody tr th {\n",
       "        vertical-align: top;\n",
       "    }\n",
       "\n",
       "    .dataframe thead th {\n",
       "        text-align: right;\n",
       "    }\n",
       "</style>\n",
       "<table border=\"1\" class=\"dataframe\">\n",
       "  <thead>\n",
       "    <tr style=\"text-align: right;\">\n",
       "      <th></th>\n",
       "      <th>Close</th>\n",
       "    </tr>\n",
       "  </thead>\n",
       "  <tbody>\n",
       "    <tr>\n",
       "      <th>0</th>\n",
       "      <td>22.370001</td>\n",
       "    </tr>\n",
       "    <tr>\n",
       "      <th>1</th>\n",
       "      <td>22.190001</td>\n",
       "    </tr>\n",
       "    <tr>\n",
       "      <th>2</th>\n",
       "      <td>22.250000</td>\n",
       "    </tr>\n",
       "    <tr>\n",
       "      <th>3</th>\n",
       "      <td>20.860001</td>\n",
       "    </tr>\n",
       "    <tr>\n",
       "      <th>4</th>\n",
       "      <td>20.240000</td>\n",
       "    </tr>\n",
       "  </tbody>\n",
       "</table>\n",
       "</div>"
      ],
      "text/plain": [
       "       Close\n",
       "0  22.370001\n",
       "1  22.190001\n",
       "2  22.250000\n",
       "3  20.860001\n",
       "4  20.240000"
      ]
     },
     "execution_count": 24,
     "metadata": {},
     "output_type": "execute_result"
    }
   ],
   "source": [
    "past_100_days = data_training.tail(100)  #for prediction of 2231st value we need data for past 100 days that is in training data\n",
    "# final_df = past_100_days.append(data_testing, ignore_index = True)\n",
    "final_df = pd.concat([past_100_days, data_testing])\n",
    "final_df = final_df.reset_index(drop = True)\n",
    "final_df.head()"
   ]
  },
  {
   "cell_type": "markdown",
   "id": "cf4081c9",
   "metadata": {},
   "source": [
    "### Scaling Testing Data"
   ]
  },
  {
   "cell_type": "code",
   "execution_count": 25,
   "id": "92f2482b",
   "metadata": {
    "scrolled": false
   },
   "outputs": [
    {
     "data": {
      "text/plain": [
       "array([[0.59267666],\n",
       "       [0.58684386],\n",
       "       [0.5887881 ],\n",
       "       ...,\n",
       "       [0.793908  ],\n",
       "       [0.79455611],\n",
       "       [0.80719381]])"
      ]
     },
     "execution_count": 25,
     "metadata": {},
     "output_type": "execute_result"
    }
   ],
   "source": [
    "input_data = scalar.fit_transform(final_df)\n",
    "input_data"
   ]
  },
  {
   "cell_type": "code",
   "execution_count": 26,
   "id": "8f7e7ec5",
   "metadata": {},
   "outputs": [
    {
     "data": {
      "text/plain": [
       "(1057, 1)"
      ]
     },
     "execution_count": 26,
     "metadata": {},
     "output_type": "execute_result"
    }
   ],
   "source": [
    "input_data.shape"
   ]
  },
  {
   "cell_type": "markdown",
   "id": "f5e8f10c",
   "metadata": {},
   "source": [
    "### Input Output Split"
   ]
  },
  {
   "cell_type": "code",
   "execution_count": 27,
   "id": "74d05290",
   "metadata": {},
   "outputs": [
    {
     "name": "stdout",
     "output_type": "stream",
     "text": [
      "(957, 100, 1)\n",
      "(957,)\n"
     ]
    }
   ],
   "source": [
    "x_test = []\n",
    "y_test = []\n",
    "\n",
    "for i in range(100, input_data.shape[0]):\n",
    "    x_test.append(input_data[i-100: i])\n",
    "    y_test.append(input_data[i, 0])\n",
    "    \n",
    "x_test, y_test = np.array(x_test), np.array(y_test)\n",
    "print(x_test.shape)\n",
    "print(y_test.shape)"
   ]
  },
  {
   "cell_type": "markdown",
   "id": "8477f5a5",
   "metadata": {},
   "source": [
    "### Making Predictions"
   ]
  },
  {
   "cell_type": "code",
   "execution_count": 28,
   "id": "02fcb167",
   "metadata": {},
   "outputs": [
    {
     "name": "stdout",
     "output_type": "stream",
     "text": [
      "30/30 [==============================] - 5s 79ms/step\n"
     ]
    }
   ],
   "source": [
    "y_predicted = model.predict(x_test)"
   ]
  },
  {
   "cell_type": "code",
   "execution_count": 29,
   "id": "966b7ad7",
   "metadata": {},
   "outputs": [
    {
     "data": {
      "text/plain": [
       "(957, 1)"
      ]
     },
     "execution_count": 29,
     "metadata": {},
     "output_type": "execute_result"
    }
   ],
   "source": [
    "print(y_predicted.shape)\n",
    "print(y_test.shape)"
   ]
  },
  {
   "cell_type": "markdown",
   "id": "d82a7b74",
   "metadata": {},
   "source": [
    "#### Scaling Predicted Values to Original"
   ]
  },
  {
   "cell_type": "code",
   "execution_count": 32,
   "id": "c0fb9fcf",
   "metadata": {},
   "outputs": [
    {
     "data": {
      "text/plain": [
       "array([0.03240441])"
      ]
     },
     "execution_count": 32,
     "metadata": {},
     "output_type": "execute_result"
    }
   ],
   "source": [
    "scalar.scale_  #factor by which all values were scale down"
   ]
  },
  {
   "cell_type": "code",
   "execution_count": 34,
   "id": "71afffc5",
   "metadata": {},
   "outputs": [],
   "source": [
    "scale_factor = 1 / scalar.scale_\n",
    "\n",
    "y_predicted = y_predicted * scale_factor\n",
    "y_test = y_test * scale_factor"
   ]
  },
  {
   "cell_type": "markdown",
   "id": "38daa82e",
   "metadata": {},
   "source": [
    "## Plotting Predicted Values"
   ]
  },
  {
   "cell_type": "code",
   "execution_count": 35,
   "id": "a45fc51f",
   "metadata": {},
   "outputs": [
    {
     "data": {
      "image/png": "[encoded data removed]",
      "text/plain": [
       "<Figure size 864x432 with 1 Axes>"
      ]
     },
     "metadata": {
      "needs_background": "light"
     },
     "output_type": "display_data"
    }
   ],
   "source": [
    "plt.figure(figsize = (12, 6))\n",
    "plt.plot(y_test, 'b', label = 'Original Price')\n",
    "plt.plot(y_predicted, 'r', label = 'Predicted Price')\n",
    "plt.xlabel('Time')\n",
    "plt.ylabel('Price')\n",
    "plt.legend()\n",
    "plt.show()"
   ]
  },
  {
   "cell_type": "markdown",
   "id": "82858a5a",
   "metadata": {},
   "source": [
    "## Prediction Into Future"
   ]
  },
  {
   "cell_type": "code",
   "execution_count": 214,
   "id": "d0b2ef26",
   "metadata": {},
   "outputs": [],
   "source": [
    "n = 30\n",
    "\n",
    "# from datetime import date, timedelta\n",
    "\n",
    "end_date = datetime.date.today().isoformat()   "
   ]
  },
  {
   "cell_type": "code",
   "execution_count": 215,
   "id": "ee1c7ae8",
   "metadata": {},
   "outputs": [],
   "source": [
    "df_future = data.DataReader('TTM', 'yahoo', start, end_date)"
   ]
  },
  {
   "cell_type": "code",
   "execution_count": 216,
   "id": "693b4081",
   "metadata": {},
   "outputs": [],
   "source": [
    "df_future = df_future.reset_index()\n",
    "df_future = df_future.drop(['Date', 'Adj Close', 'High', 'Low', 'Volume', 'Open'], axis = 1)"
   ]
  },
  {
   "cell_type": "code",
   "execution_count": 217,
   "id": "f3b31c7b",
   "metadata": {},
   "outputs": [
    {
     "data": {
      "text/html": [
       "<div>\n",
       "<style scoped>\n",
       "    .dataframe tbody tr th:only-of-type {\n",
       "        vertical-align: middle;\n",
       "    }\n",
       "\n",
       "    .dataframe tbody tr th {\n",
       "        vertical-align: top;\n",
       "    }\n",
       "\n",
       "    .dataframe thead th {\n",
       "        text-align: right;\n",
       "    }\n",
       "</style>\n",
       "<table border=\"1\" class=\"dataframe\">\n",
       "  <thead>\n",
       "    <tr style=\"text-align: right;\">\n",
       "      <th></th>\n",
       "      <th>Close</th>\n",
       "    </tr>\n",
       "  </thead>\n",
       "  <tbody>\n",
       "    <tr>\n",
       "      <th>0</th>\n",
       "      <td>16.860001</td>\n",
       "    </tr>\n",
       "    <tr>\n",
       "      <th>1</th>\n",
       "      <td>18.030001</td>\n",
       "    </tr>\n",
       "    <tr>\n",
       "      <th>2</th>\n",
       "      <td>17.850000</td>\n",
       "    </tr>\n",
       "    <tr>\n",
       "      <th>3</th>\n",
       "      <td>17.990000</td>\n",
       "    </tr>\n",
       "    <tr>\n",
       "      <th>4</th>\n",
       "      <td>17.570000</td>\n",
       "    </tr>\n",
       "    <tr>\n",
       "      <th>...</th>\n",
       "      <td>...</td>\n",
       "    </tr>\n",
       "    <tr>\n",
       "      <th>3184</th>\n",
       "      <td>29.200001</td>\n",
       "    </tr>\n",
       "    <tr>\n",
       "      <th>3185</th>\n",
       "      <td>28.580000</td>\n",
       "    </tr>\n",
       "    <tr>\n",
       "      <th>3186</th>\n",
       "      <td>28.600000</td>\n",
       "    </tr>\n",
       "    <tr>\n",
       "      <th>3187</th>\n",
       "      <td>28.990000</td>\n",
       "    </tr>\n",
       "    <tr>\n",
       "      <th>3188</th>\n",
       "      <td>29.059999</td>\n",
       "    </tr>\n",
       "  </tbody>\n",
       "</table>\n",
       "<p>3189 rows × 1 columns</p>\n",
       "</div>"
      ],
      "text/plain": [
       "          Close\n",
       "0     16.860001\n",
       "1     18.030001\n",
       "2     17.850000\n",
       "3     17.990000\n",
       "4     17.570000\n",
       "...         ...\n",
       "3184  29.200001\n",
       "3185  28.580000\n",
       "3186  28.600000\n",
       "3187  28.990000\n",
       "3188  29.059999\n",
       "\n",
       "[3189 rows x 1 columns]"
      ]
     },
     "execution_count": 217,
     "metadata": {},
     "output_type": "execute_result"
    }
   ],
   "source": [
    "df_future"
   ]
  },
  {
   "cell_type": "code",
   "execution_count": 218,
   "id": "bc1559fd",
   "metadata": {
    "scrolled": true
   },
   "outputs": [
    {
     "data": {
      "text/plain": [
       "(3189, 1)"
      ]
     },
     "execution_count": 218,
     "metadata": {},
     "output_type": "execute_result"
    }
   ],
   "source": [
    "input_future = np.array(scalar.fit_transform(df_future))\n",
    "# input_future = input_future / scale_factor\n",
    "input_future.shape"
   ]
  },
  {
   "cell_type": "code",
   "execution_count": 224,
   "id": "acfbacea",
   "metadata": {
    "scrolled": true
   },
   "outputs": [
    {
     "data": {
      "text/plain": [
       "array([[0.26967715],\n",
       "       [0.29436591],\n",
       "       [0.29056763],\n",
       "       [0.29352183],\n",
       "       [0.2846592 ],\n",
       "       [0.28107194],\n",
       "       [0.28043892],\n",
       "       [0.27220931],\n",
       "       [0.28107194],\n",
       "       [0.28381516],\n",
       "       [0.27980586],\n",
       "       [0.28107194],\n",
       "       [0.27368641],\n",
       "       [0.26376872],\n",
       "       [0.25743829],\n",
       "       [0.25997044],\n",
       "       [0.25490609],\n",
       "       [0.23633677],\n",
       "       [0.23148343],\n",
       "       [0.2226208 ],\n",
       "       [0.24414432],\n",
       "       [0.24330026],\n",
       "       [0.24604346],\n",
       "       [0.21797847],\n",
       "       [0.21523527],\n",
       "       [0.21924457],\n",
       "       [0.22641908],\n",
       "       [0.22304282],\n",
       "       [0.23253851],\n",
       "       [0.23401561],\n",
       "       [0.24182316],\n",
       "       [0.24984174],\n",
       "       [0.24435534],\n",
       "       [0.23802489],\n",
       "       [0.2422452 ],\n",
       "       [0.23359357],\n",
       "       [0.23464865],\n",
       "       [0.22726314],\n",
       "       [0.25532813],\n",
       "       [0.26630092],\n",
       "       [0.2831821 ],\n",
       "       [0.2861363 ],\n",
       "       [0.28909053],\n",
       "       [0.30554968],\n",
       "       [0.29373285],\n",
       "       [0.30343952],\n",
       "       [0.30618274],\n",
       "       [0.2987972 ],\n",
       "       [0.29753112],\n",
       "       [0.29710909],\n",
       "       [0.3042836 ],\n",
       "       [0.30998101],\n",
       "       [0.29921924],\n",
       "       [0.29373285],\n",
       "       [0.29647603],\n",
       "       [0.29373285],\n",
       "       [0.28634732],\n",
       "       [0.27980586],\n",
       "       [0.28845747],\n",
       "       [0.28803543],\n",
       "       [0.30449462],\n",
       "       [0.30343952],\n",
       "       [0.31673348],\n",
       "       [0.32221988],\n",
       "       [0.31462333],\n",
       "       [0.31546741],\n",
       "       [0.30934795],\n",
       "       [0.32200886],\n",
       "       [0.32200886],\n",
       "       [0.31799956],\n",
       "       [0.32855031],\n",
       "       [0.33255961],\n",
       "       [0.32179784],\n",
       "       [0.32306392],\n",
       "       [0.32454102],\n",
       "       [0.33298165],\n",
       "       [0.3365689 ],\n",
       "       [0.34332138],\n",
       "       [0.34859675],\n",
       "       [0.33340365],\n",
       "       [0.32580713],\n",
       "       [0.33593584],\n",
       "       [0.34458745],\n",
       "       [0.34859675],\n",
       "       [0.32686219],\n",
       "       [0.31968768],\n",
       "       [0.29647603],\n",
       "       [0.28508124],\n",
       "       [0.32960541],\n",
       "       [0.30913693],\n",
       "       [0.32369698],\n",
       "       [0.3198987 ],\n",
       "       [0.30449462],\n",
       "       [0.29098967],\n",
       "       [0.28360414],\n",
       "       [0.26397974],\n",
       "       [0.25005275],\n",
       "       [0.25849335],\n",
       "       [0.25997044],\n",
       "       [0.24414432]])"
      ]
     },
     "execution_count": 224,
     "metadata": {},
     "output_type": "execute_result"
    }
   ],
   "source": [
    "input_future = input_future[-100:]  #for last 100 values only\n",
    "input_future"
   ]
  },
  {
   "cell_type": "code",
   "execution_count": 225,
   "id": "6c7ce8ea",
   "metadata": {
    "scrolled": false
   },
   "outputs": [],
   "source": [
    "x = []\n",
    "y = []\n",
    "x.append(input_future)\n",
    "x = np.array(x)"
   ]
  },
  {
   "cell_type": "code",
   "execution_count": 226,
   "id": "95e54508",
   "metadata": {},
   "outputs": [
    {
     "name": "stdout",
     "output_type": "stream",
     "text": [
      "1/1 [==============================] - 0s 59ms/step\n",
      "1/1 [==============================] - 0s 46ms/step\n",
      "1/1 [==============================] - 0s 45ms/step\n",
      "1/1 [==============================] - 0s 50ms/step\n",
      "1/1 [==============================] - 0s 50ms/step\n",
      "1/1 [==============================] - 0s 50ms/step\n",
      "1/1 [==============================] - 0s 45ms/step\n",
      "1/1 [==============================] - 0s 42ms/step\n",
      "1/1 [==============================] - 0s 45ms/step\n",
      "1/1 [==============================] - 0s 45ms/step\n",
      "1/1 [==============================] - 0s 39ms/step\n",
      "1/1 [==============================] - 0s 41ms/step\n",
      "1/1 [==============================] - 0s 44ms/step\n",
      "1/1 [==============================] - 0s 38ms/step\n",
      "1/1 [==============================] - 0s 50ms/step\n",
      "1/1 [==============================] - 0s 48ms/step\n",
      "1/1 [==============================] - 0s 46ms/step\n",
      "1/1 [==============================] - 0s 39ms/step\n",
      "1/1 [==============================] - 0s 46ms/step\n",
      "1/1 [==============================] - 0s 52ms/step\n",
      "1/1 [==============================] - 0s 44ms/step\n",
      "1/1 [==============================] - 0s 42ms/step\n",
      "1/1 [==============================] - 0s 40ms/step\n",
      "1/1 [==============================] - 0s 43ms/step\n",
      "1/1 [==============================] - 0s 41ms/step\n",
      "1/1 [==============================] - 0s 39ms/step\n",
      "1/1 [==============================] - 0s 40ms/step\n",
      "1/1 [==============================] - 0s 40ms/step\n",
      "1/1 [==============================] - 0s 39ms/step\n",
      "1/1 [==============================] - 0s 43ms/step\n"
     ]
    }
   ],
   "source": [
    "for i in range(100, 100+n):\n",
    "    op = model.predict(x)\n",
    "    y.append(op)\n",
    "    x = np.delete(x, 0, axis = 1)\n",
    "    x = np.append(x, op)\n",
    "    x = x.reshape(1,100,1)"
   ]
  },
  {
   "cell_type": "code",
   "execution_count": 227,
   "id": "d958057c",
   "metadata": {
    "scrolled": false
   },
   "outputs": [],
   "source": [
    "y = np.array(y)\n",
    "y = y.reshape(30,)"
   ]
  },
  {
   "cell_type": "code",
   "execution_count": 228,
   "id": "6be356fe",
   "metadata": {},
   "outputs": [
    {
     "data": {
      "text/plain": [
       "<function matplotlib.pyplot.show(close=None, block=None)>"
      ]
     },
     "execution_count": 228,
     "metadata": {},
     "output_type": "execute_result"
    },
    {
     "data": {
      "image/png": "[encoded data removed]",
      "text/plain": [
       "<Figure size 864x432 with 1 Axes>"
      ]
     },
     "metadata": {
      "needs_background": "light"
     },
     "output_type": "display_data"
    }
   ],
   "source": [
    "y = y / scalar.scale_\n",
    "\n",
    "plt.figure(figsize = (12,6))\n",
    "plt.plot(y)\n",
    "plt.xlabel('Time')\n",
    "plt.ylabel('Prices')\n",
    "plt.show"
   ]
  },
  {
   "cell_type": "code",
   "execution_count": null,
   "id": "40e6a3be",
   "metadata": {},
   "outputs": [],
   "source": []
  }
 ],
 "metadata": {
  "kernelspec": {
   "display_name": "Python 3 (ipykernel)",
   "language": "python",
   "name": "python3"
  },
  "language_info": {
   "codemirror_mode": {
    "name": "ipython",
    "version": 3
   },
   "file_extension": ".py",
   "mimetype": "text/x-python",
   "name": "python",
   "nbconvert_exporter": "python",
   "pygments_lexer": "ipython3",
   "version": "3.10.6"
  }
 },
 "nbformat": 4,
 "nbformat_minor": 5
}
